{
  "nbformat": 4,
  "nbformat_minor": 0,
  "metadata": {
    "colab": {
      "provenance": [],
      "authorship_tag": "ABX9TyMPKSX7jNOxNLt/1ycmBkoy",
      "include_colab_link": true
    },
    "kernelspec": {
      "name": "python3",
      "display_name": "Python 3"
    },
    "language_info": {
      "name": "python"
    }
  },
  "cells": [
    {
      "cell_type": "markdown",
      "metadata": {
        "id": "view-in-github",
        "colab_type": "text"
      },
      "source": [
        "<a href=\"https://colab.research.google.com/github/biiikrammm/Assigment-DenveyEduGrow-/blob/main/DenveyEduGrow_Assigment_SET_5.ipynb\" target=\"_parent\"><img src=\"https://colab.research.google.com/assets/colab-badge.svg\" alt=\"Open In Colab\"/></a>"
      ]
    },
    {
      "cell_type": "code",
      "execution_count": 1,
      "metadata": {
        "colab": {
          "base_uri": "https://localhost:8080/"
        },
        "id": "pIFRlp0Mwo5Q",
        "outputId": "d5070232-db00-4bd2-889a-07db817208bf"
      },
      "outputs": [
        {
          "output_type": "stream",
          "name": "stdout",
          "text": [
            "R² Score: 0.6488\n",
            "Mean Squared Error: 4802173538.60\n"
          ]
        }
      ],
      "source": [
        "import pandas as pd\n",
        "import numpy as np\n",
        "from sklearn.model_selection import train_test_split\n",
        "from sklearn.linear_model import LinearRegression\n",
        "from sklearn.preprocessing import OneHotEncoder\n",
        "from sklearn.compose import ColumnTransformer\n",
        "from sklearn.pipeline import Pipeline\n",
        "from sklearn.metrics import r2_score, mean_squared_error\n",
        "\n",
        "# STEP 1: Load dataset\n",
        "df = pd.read_csv(\"housing.csv\")  # Replace with actual path if needed\n",
        "\n",
        "# Droping rows with missing values\n",
        "df_cleaned = df.dropna()\n",
        "\n",
        "# STEP 2: Split features and target\n",
        "X = df_cleaned.drop(\"median_house_value\", axis=1)\n",
        "y = df_cleaned[\"median_house_value\"]\n",
        "\n",
        "# Separating categorical and numerical features\n",
        "categorical_features = [\"ocean_proximity\"]\n",
        "numerical_features = X.drop(columns=categorical_features).columns.tolist()\n",
        "\n",
        "# Creating a preprocessing pipeline\n",
        "preprocessor = ColumnTransformer(\n",
        "    transformers=[\n",
        "        (\"num\", \"passthrough\", numerical_features),\n",
        "        (\"cat\", OneHotEncoder(drop=\"first\"), categorical_features)\n",
        "    ]\n",
        ")\n",
        "\n",
        "# Creating the model pipeline\n",
        "pipeline = Pipeline([\n",
        "    (\"preprocessor\", preprocessor),\n",
        "    (\"regressor\", LinearRegression())\n",
        "])\n",
        "\n",
        "# Spliting the dataset into training and test sets (80-20 split)\n",
        "X_train, X_test, y_train, y_test = train_test_split(\n",
        "    X, y, test_size=0.2, random_state=42\n",
        ")\n",
        "\n",
        "# STEP 3: Train the model\n",
        "pipeline.fit(X_train, y_train)\n",
        "\n",
        "# Making predictions\n",
        "y_pred = pipeline.predict(X_test)\n",
        "\n",
        "# STEP 4: Evaluate the model\n",
        "r2 = r2_score(y_test, y_pred)\n",
        "mse = mean_squared_error(y_test, y_pred)\n",
        "\n",
        "print(f\"R² Score: {r2:.4f}\")\n",
        "print(f\"Mean Squared Error: {mse:.2f}\")\n"
      ]
    }
  ]
}